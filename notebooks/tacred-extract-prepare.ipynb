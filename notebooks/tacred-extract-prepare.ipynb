{
 "cells": [
  {
   "cell_type": "markdown",
   "metadata": {},
   "source": [
    "# Convert RE-TACRED to UniRel Training Format"
   ]
  },
  {
   "cell_type": "markdown",
   "metadata": {},
   "source": [
    "## Reads Re-TACRED Dataset and Transforms records to the UniRel Format below\n",
    "```\n",
    "{\n",
    "    \"text\": \"In Queens , North Shore Towers , near the Nassau border , supplanted a golf course , and housing replaced a gravel quarry in Douglaston .\",\n",
    "    \"id\": \"valid_0\",\n",
    "    \"relation_list\": [\n",
    "        {\n",
    "            \"subject\": \"Douglaston\",\n",
    "            \"object\": \"Queens\",\n",
    "            \"predicate\": \"/location/neighborhood/neighborhood_of\",\n",
    "            \"subj_tok_span\": [26, 28],\n",
    "            \"obj_tok_span\": [1, 2]\n",
    "        }\n",
    "    ]\n",
    "}\n",
    "```"
   ]
  },
  {
   "cell_type": "markdown",
   "metadata": {},
   "source": [
    "## Create Data Directory and Relationship Maps"
   ]
  },
  {
   "cell_type": "code",
   "execution_count": 6,
   "metadata": {},
   "outputs": [
    {
     "data": {
      "text/plain": [
       "14"
      ]
     },
     "execution_count": 6,
     "metadata": {},
     "output_type": "execute_result"
    }
   ],
   "source": [
    "import json\n",
    "\n",
    "from pathlib import Path\n",
    "\n",
    "id2label = {\n",
    "    0: \"no_relation\",\n",
    "    1: \"org:founded_by\",\n",
    "    2: \"per:identity\",\n",
    "    3: \"org:alternate_names\",\n",
    "    4: \"per:children\",\n",
    "    5: \"per:origin\",\n",
    "    6: \"per:countries_of_residence\",\n",
    "    7: \"per:employee_of\",\n",
    "    8: \"per:title\",\n",
    "    9: \"org:city_of_branch\",\n",
    "    10: \"per:religion\",\n",
    "    11: \"per:age\",\n",
    "    12: \"per:date_of_death\",\n",
    "    13: \"org:website\",\n",
    "    14: \"per:stateorprovinces_of_residence\",\n",
    "    15: \"org:top_members/employees\",\n",
    "    16: \"org:number_of_employees/members\",\n",
    "    17: \"org:members\",\n",
    "    18: \"org:country_of_branch\",\n",
    "    19: \"per:spouse\",\n",
    "    20: \"org:stateorprovince_of_branch\",\n",
    "    21: \"org:political/religious_affiliation\",\n",
    "    22: \"org:member_of\",\n",
    "    23: \"per:siblings\",\n",
    "    24: \"per:stateorprovince_of_birth\",\n",
    "    25: \"org:dissolved\",\n",
    "    26: \"per:other_family\",\n",
    "    27: \"org:shareholders\",\n",
    "    28: \"per:parents\",\n",
    "    29: \"per:charges\",\n",
    "    30: \"per:schools_attended\",\n",
    "    31: \"per:cause_of_death\",\n",
    "    32: \"per:city_of_death\",\n",
    "    33: \"per:stateorprovince_of_death\",\n",
    "    34: \"org:founded\",\n",
    "    35: \"per:country_of_death\",\n",
    "    36: \"per:country_of_birth\",\n",
    "    37: \"per:date_of_birth\",\n",
    "    38: \"per:cities_of_residence\",\n",
    "    39: \"per:city_of_birth\"\n",
    "}\n",
    "\n",
    "label2id = {\n",
    "    \"no_relation\": 0,\n",
    "    \"org:founded_by\": 1,\n",
    "    \"per:identity\": 2,\n",
    "    \"org:alternate_names\": 3,\n",
    "    \"per:children\": 4,\n",
    "    \"per:origin\": 5,\n",
    "    \"per:countries_of_residence\": 6,\n",
    "    \"per:employee_of\": 7,\n",
    "    \"per:title\": 8,\n",
    "    \"org:city_of_branch\": 9,\n",
    "    \"per:religion\": 10,\n",
    "    \"per:age\": 11,\n",
    "    \"per:date_of_death\": 12,\n",
    "    \"org:website\": 13,\n",
    "    \"per:stateorprovinces_of_residence\": 14,\n",
    "    \"org:top_members/employees\": 15,\n",
    "    \"org:number_of_employees/members\": 16,\n",
    "    \"org:members\": 17,\n",
    "    \"org:country_of_branch\": 18,\n",
    "    \"per:spouse\": 19,\n",
    "    \"org:stateorprovince_of_branch\": 20,\n",
    "    \"org:political/religious_affiliation\": 21,\n",
    "    \"org:member_of\": 22,\n",
    "    \"per:siblings\": 23,\n",
    "    \"per:stateorprovince_of_birth\": 24,\n",
    "    \"org:dissolved\": 25,\n",
    "    \"per:other_family\": 26,\n",
    "    \"org:shareholders\": 27,\n",
    "    \"per:parents\": 28,\n",
    "    \"per:charges\": 29,\n",
    "    \"per:schools_attended\": 30,\n",
    "    \"per:cause_of_death\": 31,\n",
    "    \"per:city_of_death\": 32,\n",
    "    \"per:stateorprovince_of_death\": 33,\n",
    "    \"org:founded\": 34,\n",
    "    \"per:country_of_death\": 35,\n",
    "    \"per:country_of_birth\": 36,\n",
    "    \"per:date_of_birth\": 37,\n",
    "    \"per:cities_of_residence\": 38,\n",
    "    \"per:city_of_birth\": 39\n",
    "}\n",
    "\n",
    "data_dir = Path(\"./data/retacred\")\n",
    "data_dir.mkdir(parents=True, exist_ok=True)\n",
    "\n",
    "# Write labels to ID mapping for relationship types\n",
    "(data_dir / 'rel2id.json').write_text(\n",
    "    json.dumps(label2id),\n",
    "    encoding='utf8')\n",
    "\n",
    "# This model does not use Entity Types so add default for all\n",
    "(data_dir / \"ent2id.json\").write_text(\n",
    "    '{\"DEFAULT\": 0}',\n",
    "    encoding='utf8')"
   ]
  },
  {
   "cell_type": "markdown",
   "metadata": {},
   "source": [
    "## Load the Dataset for the Re-TACRED version\n",
    "- Note: Re-TACRED is a somewhat corrected version of TACRED\n",
    "- Re-TACRED still have many invalid triples but is a more accurate indicator or performance\n",
    "- Also only a subset of columns are required for UniRel format (e.g. entity types not used)"
   ]
  },
  {
   "cell_type": "code",
   "execution_count": 7,
   "metadata": {},
   "outputs": [
    {
     "data": {
      "text/plain": [
       "DatasetDict({\n",
       "    train: Dataset({\n",
       "        features: ['id', 'token', 'subj_start', 'subj_end', 'obj_start', 'obj_end', 'relation'],\n",
       "        num_rows: 58465\n",
       "    })\n",
       "    test: Dataset({\n",
       "        features: ['id', 'token', 'subj_start', 'subj_end', 'obj_start', 'obj_end', 'relation'],\n",
       "        num_rows: 13418\n",
       "    })\n",
       "    validation: Dataset({\n",
       "        features: ['id', 'token', 'subj_start', 'subj_end', 'obj_start', 'obj_end', 'relation'],\n",
       "        num_rows: 19584\n",
       "    })\n",
       "})"
      ]
     },
     "execution_count": 7,
     "metadata": {},
     "output_type": "execute_result"
    }
   ],
   "source": [
    "import datasets\n",
    "\n",
    "re_ds = datasets.load_dataset(\n",
    "    \"DFKI-SLT/tacred\",\n",
    "    name=\"re-tacred\",\n",
    "    data_dir='../dataset/tacred/json',\n",
    "    num_proc=8,\n",
    "    trust_remote_code=True\n",
    ")\n",
    "\n",
    "# filter to subset of columns needed\n",
    "cols = [\n",
    "    'id',\n",
    "    'token',\n",
    "    'subj_start',\n",
    "    'subj_end',\n",
    "    'obj_start',\n",
    "    'obj_end',\n",
    "    'relation'\n",
    "]\n",
    "re_ds = re_ds.select_columns(cols)\n",
    "re_ds"
   ]
  },
  {
   "cell_type": "code",
   "execution_count": 45,
   "metadata": {},
   "outputs": [
    {
     "data": {
      "text/plain": [
       "96"
      ]
     },
     "execution_count": 45,
     "metadata": {},
     "output_type": "execute_result"
    }
   ],
   "source": [
    "# df = re_ds[\"validation\"].to_pandas()\n",
    "# df[\"token\"].str.len().max()  #95\n",
    "\n",
    "# df = re_ds[\"test\"].to_pandas()\n",
    "# df[\"token\"].str.len().max() # 96\n",
    "\n",
    "df = re_ds[\"train\"].to_pandas()\n",
    "df[\"token\"].apply(len).max()"
   ]
  },
  {
   "cell_type": "markdown",
   "metadata": {},
   "source": [
    "## Transform Function"
   ]
  },
  {
   "cell_type": "code",
   "execution_count": 8,
   "metadata": {},
   "outputs": [],
   "source": [
    "def to_unirel(df):\n",
    "    df[\"text\"] = df[\"token\"].str.join(' ')\n",
    "\n",
    "    df[\"subject\"] = df.apply(\n",
    "        lambda row: row['token'][row['subj_start']:row['subj_end']], axis=1).str.join(' ')\n",
    "\n",
    "    df[\"object\"] = df.apply(\n",
    "        lambda row: row['token'][row['obj_start']:row['obj_end']], axis=1).str.join(' ')\n",
    "\n",
    "    df['relation_list'] = df.apply(\n",
    "        lambda row: [{\n",
    "            \"subject\": row['subject'],\n",
    "            \"object\": row['object'],\n",
    "            \"predicate\": id2label[row['relation']],\n",
    "            \"subj_tok_span\": [row['subj_start'], row['subj_end']],\n",
    "            \"obj_tok_span\": [row['obj_start'], row['obj_end']],\n",
    "        }], axis=1)\n",
    "\n",
    "    # Drop unused columns\n",
    "    df.drop([\n",
    "        'token',\n",
    "        'subj_start',\n",
    "        'subj_end',\n",
    "        'obj_start',\n",
    "        'obj_end',\n",
    "        'relation',\n",
    "        'subject',\n",
    "        'object'\n",
    "    ], axis=1, inplace=True)\n",
    "\n",
    "    return df.to_dict(orient='records')\n"
   ]
  },
  {
   "cell_type": "markdown",
   "metadata": {},
   "source": [
    "## Write JSON Content for Data Splits"
   ]
  },
  {
   "cell_type": "markdown",
   "metadata": {},
   "source": [
    "### Validation Split"
   ]
  },
  {
   "cell_type": "code",
   "execution_count": 9,
   "metadata": {},
   "outputs": [
    {
     "name": "stdout",
     "output_type": "stream",
     "text": [
      "Examples: 19584\n"
     ]
    }
   ],
   "source": [
    "val_dicts = to_unirel(re_ds[\"validation\"].to_pandas())\n",
    "print(f\"Examples: {len(val_dicts)}\")\n",
    "(data_dir / 'valid_data.json').write_text(\n",
    "    json.dumps(val_dicts),\n",
    "    encoding='utf8')\n",
    "del val_dicts"
   ]
  },
  {
   "cell_type": "markdown",
   "metadata": {},
   "source": [
    "### Train Split"
   ]
  },
  {
   "cell_type": "code",
   "execution_count": 10,
   "metadata": {},
   "outputs": [
    {
     "name": "stdout",
     "output_type": "stream",
     "text": [
      "Examples: 58465\n"
     ]
    }
   ],
   "source": [
    "train_dicts = to_unirel(re_ds[\"train\"].to_pandas())\n",
    "print(f\"Examples: {len(train_dicts)}\")\n",
    "(data_dir / 'train_split.json').write_text(\n",
    "    json.dumps(train_dicts),\n",
    "    encoding='utf8')\n",
    "del train_dicts"
   ]
  },
  {
   "cell_type": "markdown",
   "metadata": {},
   "source": [
    "### Test Split"
   ]
  },
  {
   "cell_type": "code",
   "execution_count": null,
   "metadata": {},
   "outputs": [
    {
     "name": "stdout",
     "output_type": "stream",
     "text": [
      "Examples: 13418\n"
     ]
    },
    {
     "data": {
      "text/plain": [
       "5136098"
      ]
     },
     "execution_count": 11,
     "metadata": {},
     "output_type": "execute_result"
    },
    {
     "ename": "",
     "evalue": "",
     "output_type": "error",
     "traceback": [
      "\u001b[1;31mThe Kernel crashed while executing code in the current cell or a previous cell. \n",
      "\u001b[1;31mPlease review the code in the cell(s) to identify a possible cause of the failure. \n",
      "\u001b[1;31mClick <a href='https://aka.ms/vscodeJupyterKernelCrash'>here</a> for more info. \n",
      "\u001b[1;31mView Jupyter <a href='command:jupyter.viewOutput'>log</a> for further details."
     ]
    }
   ],
   "source": [
    "test_dicts = to_unirel(re_ds[\"test\"].to_pandas())\n",
    "print(f\"Examples: {len(test_dicts)}\")\n",
    "(data_dir / 'test_data.json').write_text(\n",
    "    json.dumps(test_dicts),\n",
    "    encoding='utf8')\n",
    "# del test_dicts"
   ]
  }
 ],
 "metadata": {
  "kernelspec": {
   "display_name": "unirel",
   "language": "python",
   "name": "python3"
  },
  "language_info": {
   "codemirror_mode": {
    "name": "ipython",
    "version": 3
   },
   "file_extension": ".py",
   "mimetype": "text/x-python",
   "name": "python",
   "nbconvert_exporter": "python",
   "pygments_lexer": "ipython3",
   "version": "3.10.16"
  }
 },
 "nbformat": 4,
 "nbformat_minor": 2
}
